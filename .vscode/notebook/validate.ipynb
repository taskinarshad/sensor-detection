{
 "cells": [
  {
   "cell_type": "code",
   "execution_count": 2,
   "metadata": {},
   "outputs": [],
   "source": [
    "import numpy as np\n",
    "from scipy import stats\n",
    "rng = np.random.default_rng()\n",
    "sample1 = stats.uniform.rvs(size=100, random_state=rng)\n",
    "sample2 = stats.norm.rvs(size=110, random_state=rng)\n",
    "response=stats.ks_2samp(sample1, sample2)"
   ]
  },
  {
   "cell_type": "code",
   "execution_count": 6,
   "metadata": {},
   "outputs": [
    {
     "data": {
      "text/plain": [
       "array([0.96024273, 0.74846784, 0.39414171, 0.01170749, 0.08273212,\n",
       "       0.8212436 , 0.56780704, 0.60288003, 0.05244126, 0.84300375,\n",
       "       0.77887939, 0.49920422, 0.0541111 , 0.74212109, 0.24896702,\n",
       "       0.7794976 , 0.95187399, 0.50035975, 0.18350252, 0.53100279,\n",
       "       0.86953081, 0.34546221, 0.59173104, 0.61645598, 0.01506849,\n",
       "       0.6071418 , 0.04079757, 0.68056143, 0.12201065, 0.02145187,\n",
       "       0.95843581, 0.44859958, 0.38837777, 0.59866927, 0.19136888,\n",
       "       0.94212577, 0.98873674, 0.46646537, 0.57885568, 0.94359845,\n",
       "       0.86037163, 0.80538586, 0.78707718, 0.31866106, 0.28499991,\n",
       "       0.65151125, 0.30938718, 0.60753051, 0.18721763, 0.23630602,\n",
       "       0.70520554, 0.97852044, 0.89411178, 0.38720629, 0.49331656,\n",
       "       0.3169713 , 0.57177676, 0.83211011, 0.33858757, 0.60457843,\n",
       "       0.03801057, 0.57698942, 0.41815501, 0.08385231, 0.09498848,\n",
       "       0.24953756, 0.48902081, 0.62198789, 0.00411637, 0.61239456,\n",
       "       0.50843909, 0.8867985 , 0.45084073, 0.47786001, 0.70754908,\n",
       "       0.09020799, 0.19040184, 0.94458042, 0.31524543, 0.64674773,\n",
       "       0.0308026 , 0.45322817, 0.73270389, 0.24216359, 0.61997161,\n",
       "       0.28739106, 0.65319016, 0.54803457, 0.13951707, 0.37104666,\n",
       "       0.85060107, 0.36642791, 0.70044284, 0.55318572, 0.50445796,\n",
       "       0.56572947, 0.52524422, 0.00672949, 0.89073602, 0.66111692])"
      ]
     },
     "execution_count": 6,
     "metadata": {},
     "output_type": "execute_result"
    }
   ],
   "source": [
    "sample1"
   ]
  },
  {
   "cell_type": "code",
   "execution_count": 5,
   "metadata": {},
   "outputs": [
    {
     "data": {
      "text/plain": [
       "array([-1.33520577,  0.02756632,  0.57633764, -0.78687471,  0.90948538,\n",
       "        1.81727858,  1.16428898, -2.80510268,  1.09551939,  0.46018653,\n",
       "        0.02627586,  0.18283198,  2.10560079,  1.51419317, -0.8159984 ,\n",
       "       -0.88594101,  0.42102667, -0.6196954 ,  1.08717977,  1.39837279,\n",
       "       -1.83520808,  0.14612738, -0.11333017,  0.75185393,  1.1232098 ,\n",
       "       -0.45384845,  0.46316301, -1.01386424, -1.24217437, -0.28624859,\n",
       "        0.29315787, -0.19246513,  1.1106225 ,  0.69175466,  0.30003848,\n",
       "       -0.64142024, -1.95645879, -0.50010371, -0.72936574, -0.40737311,\n",
       "       -0.21497941, -0.21756721, -1.74273913,  0.70946534, -0.23249777,\n",
       "       -0.15256218, -0.45252013,  1.25208669,  0.14128807,  1.94369779,\n",
       "       -0.74007096,  0.62958135, -0.58305336,  0.04570641, -0.24124019,\n",
       "        0.07802107, -1.17915592,  0.39158571,  0.3028108 ,  0.54765168,\n",
       "       -0.13758154,  0.42246967, -0.01787287,  0.48889342, -0.20394814,\n",
       "       -1.31526974, -0.01643101, -0.38709664, -0.64360609, -0.15330343,\n",
       "       -1.21596581, -0.1021538 , -0.34687796, -0.86803985, -0.03948791,\n",
       "       -0.70579383,  0.95892337, -0.7829897 , -0.59923617, -0.38660956,\n",
       "        1.35258609,  0.78661851, -0.60709977, -0.44916044, -0.87030546,\n",
       "        2.46702375,  1.46853075,  0.00486757, -0.65777762,  0.17197442,\n",
       "       -0.41353891, -0.4004857 ,  0.52721631,  0.53310249, -1.72544066,\n",
       "       -2.11782773, -0.93662925,  0.5071815 ,  0.11577412, -0.04444424,\n",
       "       -0.70764188,  1.14427445, -0.99755914,  0.53208836, -0.42512592,\n",
       "       -0.27496053, -0.74297186, -0.95240801, -0.09950449, -0.16748013])"
      ]
     },
     "execution_count": 5,
     "metadata": {},
     "output_type": "execute_result"
    }
   ],
   "source": [
    "sample2"
   ]
  },
  {
   "cell_type": "code",
   "execution_count": 4,
   "metadata": {},
   "outputs": [
    {
     "data": {
      "text/plain": [
       "2e-16"
      ]
     },
     "execution_count": 4,
     "metadata": {},
     "output_type": "execute_result"
    }
   ],
   "source": [
    "round(response.pvalue,16)"
   ]
  },
  {
   "cell_type": "code",
   "execution_count": null,
   "metadata": {},
   "outputs": [],
   "source": [
    "#Anomly in my dataset\n",
    "# \n",
    "# 1.High Null Value\n",
    "2. Missing COlumns\n",
    "3. Outlier\n",
    "4. Categorical: \n",
    "Gender--> MALE, FEMALE,OTHER"
   ]
  },
  {
   "cell_type": "code",
   "execution_count": 7,
   "metadata": {},
   "outputs": [],
   "source": [
    "import pandas as pd"
   ]
  },
  {
   "cell_type": "code",
   "execution_count": 8,
   "metadata": {},
   "outputs": [
    {
     "name": "stdout",
     "output_type": "stream",
     "text": [
      "1 4\n",
      "2 5\n",
      "3 6\n",
      "4 7\n"
     ]
    }
   ],
   "source": [
    "l1=[1,2,3,4]\n",
    "l2=[4,5,6,7]\n",
    "\n",
    "for l1_val,l2_val in zip(l1,l2):\n",
    "    print(l1_val,l2_val)"
   ]
  },
  {
   "cell_type": "code",
   "execution_count": 11,
   "metadata": {},
   "outputs": [],
   "source": [
    "df = pd.read_csv(\"/config/workspace/artifact/01-07-2023__12:47:54/data_ingestion/dataset/train.csv\")"
   ]
  },
  {
   "cell_type": "code",
   "execution_count": 12,
   "metadata": {},
   "outputs": [
    {
     "data": {
      "text/plain": [
       "0"
      ]
     },
     "execution_count": 12,
     "metadata": {},
     "output_type": "execute_result"
    }
   ],
   "source": [
    "len(df.iloc[:,[0]].drop(\"class\",axis=1).columns)"
   ]
  },
  {
   "cell_type": "code",
   "execution_count": 1,
   "metadata": {},
   "outputs": [],
   "source": [
    "from glob import glob"
   ]
  },
  {
   "cell_type": "code",
   "execution_count": 4,
   "metadata": {},
   "outputs": [
    {
     "data": {
      "text/plain": [
       "['/config/workspace/saved_models/model.pkl']"
      ]
     },
     "execution_count": 4,
     "metadata": {},
     "output_type": "execute_result"
    }
   ],
   "source": [
    "glob(\"/config/workspace/saved_models/model.pkl\")"
   ]
  },
  {
   "cell_type": "code",
   "execution_count": 6,
   "metadata": {},
   "outputs": [
    {
     "data": {
      "text/plain": [
       "'1'"
      ]
     },
     "execution_count": 6,
     "metadata": {},
     "output_type": "execute_result"
    }
   ],
   "source": [
    "import os\n",
    "\n",
    "os.path.basename(\"saved_mode/1\")"
   ]
  }
 ],
 "metadata": {
  "kernelspec": {
   "display_name": "Python 3.8.10 64-bit",
   "language": "python",
   "name": "python3"
  },
  "language_info": {
   "codemirror_mode": {
    "name": "ipython",
    "version": 3
   },
   "file_extension": ".py",
   "mimetype": "text/x-python",
   "name": "python",
   "nbconvert_exporter": "python",
   "pygments_lexer": "ipython3",
   "version": "3.8.10"
  },
  "orig_nbformat": 4,
  "vscode": {
   "interpreter": {
    "hash": "e7370f93d1d0cde622a1f8e1c04877d8463912d04d973331ad4851f04de6915a"
   }
  }
 },
 "nbformat": 4,
 "nbformat_minor": 2
}
